{
 "cells": [
  {
   "cell_type": "code",
   "execution_count": 12,
   "metadata": {},
   "outputs": [
    {
     "name": "stdout",
     "output_type": "stream",
     "text": [
      "Мария Никитина\n",
      "Егор Савичев\n",
      "Александр Пахомов\n",
      "Алина Егорова\n",
      "Руслан Башаров\n",
      "\n",
      "Мария Никитина\n",
      "Егор Савичев\n",
      "Александр Пахомов\n",
      "Алина Егорова\n",
      "Руслан Башаров\n",
      "\n",
      "Мария Никитина менеджер\n",
      "Егор Савичев разработчик\n",
      "Александр Пахомов дизайнер\n",
      "Алина Егорова разработчик\n",
      "Руслан Башаров верстальщик\n",
      "\n",
      "Егор Савичев разработчик\n",
      "Алина Егорова разработчик\n",
      "\n"
     ]
    }
   ],
   "source": [
    "employee_base = {'Мария Никитина': 'менеджер',\n",
    "                 'Егор Савичев': 'разработчик',\n",
    "                 'Александр Пахомов': 'дизайнер',\n",
    "                 'Алина Егорова': 'разработчик',\n",
    "                 'Руслан Башаров': 'верстальщик'}\n",
    "for employee in employee_base:\n",
    "    print(employee)\n",
    "print()\n",
    "\n",
    "for employee in employee_base.keys():\n",
    "    print(employee)\n",
    "print()\n",
    "\n",
    "for employee in employee_base:\n",
    "    print(employee, employee_base[employee])\n",
    "print()\n",
    "\n",
    "for employee in employee_base:\n",
    "    if employee_base[employee] == 'разработчик':\n",
    "        print(employee, employee_base[employee])\n",
    "print()"
   ]
  },
  {
   "cell_type": "code",
   "execution_count": 39,
   "metadata": {},
   "outputs": [
    {
     "name": "stdout",
     "output_type": "stream",
     "text": [
      "{'Россия': 'A', 'Египет': 'A'}\n"
     ]
    }
   ],
   "source": [
    "draw_dict = {\n",
    "\t'Россия': 'A',\n",
    "\t'Португалия': 'B',\n",
    "\t'Франция': 'C',\n",
    "\t'Дания': 'C',\n",
    "\t'Египет': 'A'\n",
    "}\n",
    "draw_new={}\n",
    "for country in draw_dict:\n",
    "    if draw_dict[country]=='A':\n",
    "        draw_new[country] = draw_dict[country]\n",
    "print(draw_new)\n",
    "        "
   ]
  },
  {
   "cell_type": "code",
   "execution_count": null,
   "metadata": {},
   "outputs": [],
   "source": []
  }
 ],
 "metadata": {
  "kernelspec": {
   "display_name": "Python 3",
   "language": "python",
   "name": "python3"
  },
  "language_info": {
   "codemirror_mode": {
    "name": "ipython",
    "version": 3
   },
   "file_extension": ".py",
   "mimetype": "text/x-python",
   "name": "python",
   "nbconvert_exporter": "python",
   "pygments_lexer": "ipython3",
   "version": "3.7.7"
  }
 },
 "nbformat": 4,
 "nbformat_minor": 4
}
