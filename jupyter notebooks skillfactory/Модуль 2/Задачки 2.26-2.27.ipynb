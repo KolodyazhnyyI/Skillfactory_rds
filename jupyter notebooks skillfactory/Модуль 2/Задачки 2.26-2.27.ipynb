{
 "cells": [
  {
   "cell_type": "code",
   "execution_count": 3,
   "metadata": {},
   "outputs": [
    {
     "name": "stdout",
     "output_type": "stream",
     "text": [
      "<class 'dict'>\n",
      "\n",
      "dict_keys(['events_data'])\n",
      "\n",
      "107\n",
      "\n",
      "['page', 'page', 'page', 'datepicker', 'table', 'table', 'table', 'table', 'datepicker', 'datepicker', 'datepicker', 'datepicker', 'datepicker', 'page', 'page', 'page', 'page', 'page', 'page', 'page', 'page', 'page', 'page', 'page', 'page', 'page', 'page', 'page', 'page', 'page', 'page', 'page', 'page', 'report', 'report', 'report', 'report', 'page', 'report', 'page', 'page', 'page', 'table', 'table', 'table', 'table', 'page', 'page', 'page', 'page', 'page', 'page', 'page', 'page', 'page', 'page', 'page', 'page', 'report', 'page', 'page', 'page', 'page', 'page', 'report', 'page', 'page', 'page', 'page', 'page', 'page', 'page', 'page', 'page', 'page', 'page', 'page', 'page', 'datepicker', 'datepicker', 'datepicker', 'datepicker', 'datepicker', 'datepicker', 'datepicker', 'page', 'page', 'page', 'page', 'page', 'page', 'report', 'table', 'table', 'datepicker', 'datepicker', 'page', 'page', 'page', 'page', 'page', 'page', 'page', 'page', 'page', 'page', 'page']\n",
      "\n",
      "Counter({'page': 74, 'datepicker': 15, 'table': 10, 'report': 8})\n"
     ]
    }
   ],
   "source": [
    "import json\n",
    "with open('data.json', 'rb') as infile:\n",
    "    data = json.load(infile)\n",
    "print(type(data))\n",
    "print ()\n",
    "print(data.keys())\n",
    "print ()\n",
    "data_list=data['events_data']\n",
    "print(len(data_list))\n",
    "print ()\n",
    "##########################давайте пройдемся циклом по всем событиям и\n",
    "#запишем в новый список все встречающиеся\n",
    "#категории (ключ 'category')\n",
    "categories = []\n",
    "for item in data_list:\n",
    "    category = item['category']\n",
    "    categories.append(category)\n",
    "print (categories)\n",
    "print ()\n",
    "#################################вайте подсчитаем частоту встречаемости\n",
    "#каждого из событий. Для этого можно использовать удобную конструкцию Counter\n",
    "import collections\n",
    "c = collections.Counter()\n",
    "for category in categories:\n",
    "    c[category] += 1\n",
    "print (c)\n",
    "#print ()\n",
    "#давайте посмотрим, какие клиенты совершают события table. Для этого пройдемся\n",
    "#по каждому словарю из списка data_list и добавим значение client_id в новый\n",
    "#список table_clients, но только в тех случаях, где category = 'table'\n",
    "#table_clients = []\n",
    "#for item in data_list:\n",
    "#    client_id = item['client_id']\n",
    "#    category = item['category']\n",
    "#    if category == 'table':\n",
    "#        table_clients.append(client_id)\n",
    "#print (table_clients)\n",
    "#print ()\n",
    "#Давайте применим такую же конструкцию, которую мы применяли для подсчета\n",
    "#количества разных событий, чтобы посчитать, кто из клиентов чаще всего\n",
    "#совершал действие 'table':\n",
    "#c = collections.Counter()\n",
    "#for table_client in table_clients:\n",
    "#    c[table_client] += 1\n",
    "#print (c)\n",
    "#print ()\n",
    "#Для этого можно посчитать, сколько ключей содержится в словаре «c»\n",
    "#print (len(c.keys()))\n",
    "#print ()\n",
    "#Вывести информацию по конкретному пользователю можно, обратившись по соответствующему ключу:\n",
    "#print(c[27115])"
   ]
  },
  {
   "cell_type": "code",
   "execution_count": 48,
   "metadata": {},
   "outputs": [
    {
     "name": "stdout",
     "output_type": "stream",
     "text": [
      "51\n"
     ]
    }
   ],
   "source": [
    "import json\n",
    "from collections import Counter\n",
    "with open('data.json','rb') as infile:\n",
    "    data = json.load(infile)\n",
    "ids=[]\n",
    "for i in data['events_data']:\n",
    "    for j in i:\n",
    "        if 'client_id' in j:\n",
    "            ids.append(i[j])\n",
    "print(len(Counter(ids)))"
   ]
  },
  {
   "cell_type": "code",
   "execution_count": 59,
   "metadata": {},
   "outputs": [
    {
     "name": "stdout",
     "output_type": "stream",
     "text": [
      "12\n"
     ]
    }
   ],
   "source": [
    "import json\n",
    "from collections import Counter\n",
    "with open('data.json','rb') as infile:\n",
    "    data = json.load(infile)\n",
    "ids=[]\n",
    "c=0\n",
    "for i in data['events_data']:\n",
    "    if i['client_id']==60459:\n",
    "        c=c+1\n",
    "print(c)"
   ]
  },
  {
   "cell_type": "code",
   "execution_count": 66,
   "metadata": {},
   "outputs": [
    {
     "name": "stdout",
     "output_type": "stream",
     "text": [
      "3\n"
     ]
    }
   ],
   "source": [
    "import json\n",
    "from collections import Counter\n",
    "with open('data.json','rb') as infile:\n",
    "    data = json.load(infile)\n",
    "ids=[]\n",
    "c=0\n",
    "for i in data['events_data']:\n",
    "    if i['category']=='report':\n",
    "        ids.append(i['client_id'])\n",
    "print(len(Counter(ids)))"
   ]
  },
  {
   "cell_type": "code",
   "execution_count": 67,
   "metadata": {},
   "outputs": [
    {
     "name": "stdout",
     "output_type": "stream",
     "text": [
      "Counter({60459: 5, 62602: 2, 58113: 1})\n"
     ]
    }
   ],
   "source": [
    "import json\n",
    "from collections import Counter\n",
    "with open('data.json','rb') as infile:\n",
    "    data = json.load(infile)\n",
    "ids=[]\n",
    "c=0\n",
    "for i in data['events_data']:\n",
    "    if i['category']=='report':\n",
    "        ids.append(i['client_id'])\n",
    "print(Counter(ids))"
   ]
  }
 ],
 "metadata": {
  "kernelspec": {
   "display_name": "Python 3",
   "language": "python",
   "name": "python3"
  },
  "language_info": {
   "codemirror_mode": {
    "name": "ipython",
    "version": 3
   },
   "file_extension": ".py",
   "mimetype": "text/x-python",
   "name": "python",
   "nbconvert_exporter": "python",
   "pygments_lexer": "ipython3",
   "version": "3.7.7"
  }
 },
 "nbformat": 4,
 "nbformat_minor": 4
}
