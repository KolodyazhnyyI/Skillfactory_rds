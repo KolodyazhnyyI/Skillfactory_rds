{
 "cells": [
  {
   "cell_type": "code",
   "execution_count": 3,
   "metadata": {},
   "outputs": [
    {
     "name": "stdout",
     "output_type": "stream",
     "text": [
      "менеджер\n",
      "разработчик\n",
      "дизайнер\n",
      "разработчик\n",
      "верстальщик\n",
      "\n",
      "Мария Никитина\n",
      "Егор Савичев\n",
      "Александр Пахомов\n",
      "Алина Егорова\n",
      "Руслан Башаров\n",
      "\n",
      "Мария Никитина менеджер\n",
      "Егор Савичев разработчик\n",
      "Александр Пахомов дизайнер\n",
      "Алина Егорова разработчик\n",
      "Руслан Башаров верстальщик\n",
      "\n"
     ]
    }
   ],
   "source": [
    "employee_base = {'Мария Никитина': 'менеджер',\n",
    "                 'Егор Савичев': 'разработчик',\n",
    "                 'Александр Пахомов': 'дизайнер',\n",
    "                 'Алина Егорова': 'разработчик',\n",
    "                 'Руслан Башаров': 'верстальщик'}\n",
    "for position in employee_base.values():\n",
    "    print(position)\n",
    "print()\n",
    "for names in employee_base.keys():\n",
    "    print(names)\n",
    "print()\n",
    "for employee, position in employee_base.items():\n",
    "    print(employee, position)\n",
    "print()"
   ]
  },
  {
   "cell_type": "code",
   "execution_count": 20,
   "metadata": {},
   "outputs": [
    {
     "name": "stdout",
     "output_type": "stream",
     "text": [
      "{'Россия': 'A', 'Египет': 'A'}\n"
     ]
    }
   ],
   "source": [
    "draw_dict = {\n",
    "\t'Россия': 'A',\n",
    "\t'Португалия': 'B',\n",
    "\t'Франция': 'C',\n",
    "\t'Дания': 'C',\n",
    "\t'Египет': 'A'\n",
    "}\n",
    "draw_new={}\n",
    "for country, group in draw_dict.items():\n",
    "    if group=='A':\n",
    "        draw_new[country]=group\n",
    "print(draw_new)"
   ]
  },
  {
   "cell_type": "code",
   "execution_count": 27,
   "metadata": {},
   "outputs": [
    {
     "name": "stdout",
     "output_type": "stream",
     "text": [
      "13841\n"
     ]
    }
   ],
   "source": [
    "dict = {\n",
    "\t'2019-04-01': 2504,\n",
    "    '2019-04-02': 4994,\n",
    "    '2019-04-03': 6343\n",
    "}\n",
    "print(sum(dict.values()))"
   ]
  },
  {
   "cell_type": "code",
   "execution_count": 28,
   "metadata": {},
   "outputs": [
    {
     "name": "stdout",
     "output_type": "stream",
     "text": [
      "Номер верен\n"
     ]
    }
   ],
   "source": [
    "phones = {\n",
    "\t'Гордиенко Виктория': 5140,\n",
    "\t'Анисимов Кирилл': 5145,\n",
    "\t'Кузнецова Дарья': 5142\n",
    "}\n",
    "if phones['Кузнецова Дарья'] == 5142:\n",
    "\tprint('Номер верен')"
   ]
  },
  {
   "cell_type": "code",
   "execution_count": 29,
   "metadata": {},
   "outputs": [
    {
     "name": "stdout",
     "output_type": "stream",
     "text": [
      "Номер верен\n"
     ]
    }
   ],
   "source": [
    "phones = {\n",
    "\t'Гордиенко Виктория': 5140,\n",
    "\t'Анисимов Кирилл': 5145,\n",
    "\t'Кузнецова Дарья': 5142\n",
    "}\n",
    "for name, phone in phones.items():\n",
    "\tif name == 'Кузнецова Дарья' and phone == 5142:\n",
    "\t\tprint('Номер верен')"
   ]
  },
  {
   "cell_type": "code",
   "execution_count": 30,
   "metadata": {},
   "outputs": [
    {
     "name": "stdout",
     "output_type": "stream",
     "text": [
      "Номер верен\n"
     ]
    }
   ],
   "source": [
    "phones = {\n",
    "\t'Гордиенко Виктория': 5140,\n",
    "\t'Анисимов Кирилл': 5145,\n",
    "\t'Кузнецова Дарья': 5142\n",
    "}\n",
    "for record in phones:\n",
    "\tif record == 'Кузнецова Дарья' and phones[record] == 5142:\n",
    "\t\tprint('Номер верен')"
   ]
  }
 ],
 "metadata": {
  "kernelspec": {
   "display_name": "Python 3",
   "language": "python",
   "name": "python3"
  },
  "language_info": {
   "codemirror_mode": {
    "name": "ipython",
    "version": 3
   },
   "file_extension": ".py",
   "mimetype": "text/x-python",
   "name": "python",
   "nbconvert_exporter": "python",
   "pygments_lexer": "ipython3",
   "version": "3.7.7"
  }
 },
 "nbformat": 4,
 "nbformat_minor": 4
}
