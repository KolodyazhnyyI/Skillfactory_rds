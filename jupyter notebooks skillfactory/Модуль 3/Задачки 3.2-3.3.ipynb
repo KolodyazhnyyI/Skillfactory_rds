{
 "cells": [
  {
   "cell_type": "code",
   "execution_count": 1,
   "metadata": {
    "scrolled": true
   },
   "outputs": [
    {
     "name": "stdout",
     "output_type": "stream",
     "text": [
      "каждый\n",
      "охотник\n",
      "желает\n",
      "знать\n",
      "где\n",
      "сидит\n",
      "фазан\n"
     ]
    }
   ],
   "source": [
    "rainbow_list = 'каждый охотник желает знать где сидит фазан'.split()\n",
    "for word in rainbow_list:\n",
    "    print(word)"
   ]
  },
  {
   "cell_type": "code",
   "execution_count": 2,
   "metadata": {
    "scrolled": true
   },
   "outputs": [
    {
     "name": "stdout",
     "output_type": "stream",
     "text": [
      "каждый\n",
      "охотник\n",
      "желает\n",
      "знать\n",
      "где\n",
      "сидит\n",
      "фазан\n",
      "красный\n",
      "оранжевый\n",
      "жёлтый\n",
      "зелёный\n",
      "голубой\n",
      "синий\n",
      "фиолетовый\n",
      "каждый красный\n",
      "охотник оранжевый\n",
      "желает жёлтый\n",
      "знать зелёный\n",
      "где голубой\n",
      "сидит синий\n",
      "фазан фиолетовый\n"
     ]
    }
   ],
   "source": [
    "rainbow_dict = {'каждый': 'красный', \n",
    "                'охотник': 'оранжевый', \n",
    "                'желает': 'жёлтый', \n",
    "                'знать': 'зелёный', \n",
    "                'где': 'голубой', \n",
    "                'сидит': 'синий', \n",
    "                'фазан': 'фиолетовый'}\n",
    "\n",
    "# Перебираем ключи\n",
    "for word in rainbow_dict.keys():\n",
    "    print(word)\n",
    "\n",
    "# Перебираем значения\n",
    "for color in rainbow_dict.values():\n",
    "    print(color)\n",
    "\n",
    "# Перебираем пары ключ-значение\n",
    "for word, color in rainbow_dict.items():\n",
    "    print(word, color)"
   ]
  },
  {
   "cell_type": "code",
   "execution_count": 3,
   "metadata": {},
   "outputs": [
    {
     "name": "stdout",
     "output_type": "stream",
     "text": [
      "Вы - самый крутой студент в SkillFactory"
     ]
    }
   ],
   "source": [
    "string = 'Вы - самый крутой студент в SkillFactory'\n",
    "for letter in string:\n",
    "    print(letter, end = '')"
   ]
  },
  {
   "cell_type": "code",
   "execution_count": 4,
   "metadata": {},
   "outputs": [
    {
     "name": "stdout",
     "output_type": "stream",
     "text": [
      "Программист\n",
      "кофе\n",
      "устройство\n",
      "устройство\n"
     ]
    }
   ],
   "source": [
    "proverb = 'Программисты - это устройства, преобразующие кофеин в код.'\n",
    "print(proverb[0:11])\n",
    "print(proverb[-13:-9])\n",
    "print(proverb[19:28]+'о')\n",
    "print(proverb.split()[3][:-2]+'о')"
   ]
  },
  {
   "cell_type": "code",
   "execution_count": 5,
   "metadata": {},
   "outputs": [
    {
     "name": "stdout",
     "output_type": "stream",
     "text": [
      "рПгоарммсиыт- э оту тсорсйвт,ап ербоарузщюеик фоие н вок.д\n"
     ]
    }
   ],
   "source": [
    "proverb = 'Программисты - это устройства, преобразующие кофеин в код.'\n",
    "med_proverb=[]\n",
    "for i in range(0,len(proverb),2):\n",
    "    med_proverb.append(proverb[i+1])\n",
    "    med_proverb.append(proverb[i])\n",
    "new_proverb=''.join(med_proverb)\n",
    "print(new_proverb)"
   ]
  },
  {
   "cell_type": "code",
   "execution_count": 6,
   "metadata": {},
   "outputs": [
    {
     "name": "stdout",
     "output_type": "stream",
     "text": [
      "Слово \"программирование\" - это не палиндром\n"
     ]
    }
   ],
   "source": [
    "basic_word = 'программирование'\n",
    "inverted_word=basic_word[::-1]\n",
    "if basic_word[:]==basic_word[::-1]:\n",
    "    print('Слово','\"'+basic_word+'\"','является палиндромом')\n",
    "else:\n",
    "    print('Слово','\"'+basic_word+'\"','- это не палиндром')"
   ]
  },
  {
   "cell_type": "code",
   "execution_count": 7,
   "metadata": {},
   "outputs": [
    {
     "name": "stdout",
     "output_type": "stream",
     "text": [
      "Число городов со сложными названиями - 3\n"
     ]
    }
   ],
   "source": [
    "city_list = ['Москва', 'Санкт-Петербург', 'Новосибирск', \n",
    "             'Екатеринбург', 'Нижний Новгород', 'Казань', \n",
    "             'Челябинск', 'Омск', 'Самара', 'Ростов-на-Дону']\n",
    "counter = 0\n",
    "for city in city_list:\n",
    "    if ' ' in city or '-' in city:\n",
    "        counter += 1\n",
    "print('Число городов со сложными названиями - {}'.format(counter))"
   ]
  },
  {
   "cell_type": "code",
   "execution_count": 8,
   "metadata": {},
   "outputs": [
    {
     "name": "stdout",
     "output_type": "stream",
     "text": [
      "skillfactory.ru\n"
     ]
    }
   ],
   "source": [
    "email = 'VeryBigBoss@skillfactory.ru'\n",
    "pos = email.find('@')\n",
    "domain = email[pos+1:]\n",
    "print(domain)"
   ]
  },
  {
   "cell_type": "code",
   "execution_count": 6,
   "metadata": {},
   "outputs": [
    {
     "name": "stdout",
     "output_type": "stream",
     "text": [
      "Ехал Грека через реку, видит Грека - в реке рак. Сунул Грека руку в реку, рак за руку Греку - цап!\n",
      "4\n"
     ]
    }
   ],
   "source": [
    "tongue_twister = 'Ехал Грека через реку, видит Грека - в реке рак. \\\n",
    "Сунул Грека руку в реку, рак за руку Греку - цап!'\n",
    "print(tongue_twister)\n",
    "counter = tongue_twister.count('Грек')\n",
    "print(counter)"
   ]
  },
  {
   "cell_type": "code",
   "execution_count": 9,
   "metadata": {},
   "outputs": [
    {
     "name": "stdout",
     "output_type": "stream",
     "text": [
      "3\n"
     ]
    }
   ],
   "source": [
    "proverbs = ['Без труда не вытянешь и рыбку из пруда', \n",
    "            'Терпение и труд всё перетрут', \n",
    "            'Работа не волк - в лес не убежит', \n",
    "            'Чем труднее дело, тем выше честь', \n",
    "            'Учиться, учиться и учиться!']\n",
    "\n",
    "counter = 0\n",
    "for proverb in proverbs:\n",
    "    if 'труд' in proverb:\n",
    "        counter += 1\n",
    "print(counter)"
   ]
  },
  {
   "cell_type": "code",
   "execution_count": 11,
   "metadata": {},
   "outputs": [
    {
     "name": "stdout",
     "output_type": "stream",
     "text": [
      "18\n",
      "7\n",
      "-1\n",
      "это\n"
     ]
    }
   ],
   "source": [
    "proverb = 'Хорошо написанная программа - это программа, написанная 2 раза'\n",
    "\n",
    "while True:\n",
    "    index = proverb.find('программа')\n",
    "    print(index)\n",
    "    if index == -1:\n",
    "        break\n",
    "    secret = proverb[:index].split()[-1]\n",
    "    proverb = proverb[index+9:]\n",
    "print(secret)"
   ]
  },
  {
   "cell_type": "code",
   "execution_count": 12,
   "metadata": {},
   "outputs": [
    {
     "name": "stdout",
     "output_type": "stream",
     "text": [
      "skillfactory.ru\n"
     ]
    }
   ],
   "source": [
    "email = 'VeryBigBoss@skillfactory.ru'\n",
    "print(email[email.find('@')+1:])"
   ]
  },
  {
   "cell_type": "code",
   "execution_count": 14,
   "metadata": {},
   "outputs": [
    {
     "name": "stdout",
     "output_type": "stream",
     "text": [
      "14\n"
     ]
    }
   ],
   "source": [
    "number = 56.257\n",
    "num=str(number)\n",
    "summ=0\n",
    "for i in list(num[num.find('.')+1:]):\n",
    "    summ +=int(i)\n",
    "print(summ)"
   ]
  },
  {
   "cell_type": "code",
   "execution_count": 13,
   "metadata": {},
   "outputs": [
    {
     "name": "stdout",
     "output_type": "stream",
     "text": [
      "{'mail.ru': 3, 'yandex.ru': 5, 'gmail.com': 2}\n"
     ]
    }
   ],
   "source": [
    "emails_list = ['vasya@mail.ru', \n",
    "          'akakiy@yandex.ru', \n",
    "          'spyderman@yandex.ru', \n",
    "          'XFiles@gmail.com', \n",
    "          'hello@mail.ru', \n",
    "          'noname@gmail.com', \n",
    "          'DonaldTrump@mail.ru', \n",
    "          'a768#af@yandex.ru', \n",
    "          'Ivan_Ivanovich@yandex.ru', \n",
    "          'thebestmail@yandex.ru']\n",
    "emails_dict={}\n",
    "a=0\n",
    "b=0\n",
    "c=0\n",
    "for i in emails_list:\n",
    "    if '@mail.ru' in i:\n",
    "        a+=1\n",
    "        emails_dict['mail.ru']=a\n",
    "    elif '@yandex.ru' in i:\n",
    "        b+=1\n",
    "        emails_dict['yandex.ru']=b\n",
    "    elif '@gmail.com' in i:\n",
    "        c+=1\n",
    "        emails_dict['gmail.com']=c\n",
    "print(emails_dict)"
   ]
  },
  {
   "cell_type": "code",
   "execution_count": null,
   "metadata": {},
   "outputs": [],
   "source": []
  }
 ],
 "metadata": {
  "kernelspec": {
   "display_name": "Python 3",
   "language": "python",
   "name": "python3"
  },
  "language_info": {
   "codemirror_mode": {
    "name": "ipython",
    "version": 3
   },
   "file_extension": ".py",
   "mimetype": "text/x-python",
   "name": "python",
   "nbconvert_exporter": "python",
   "pygments_lexer": "ipython3",
   "version": "3.7.7"
  }
 },
 "nbformat": 4,
 "nbformat_minor": 4
}
