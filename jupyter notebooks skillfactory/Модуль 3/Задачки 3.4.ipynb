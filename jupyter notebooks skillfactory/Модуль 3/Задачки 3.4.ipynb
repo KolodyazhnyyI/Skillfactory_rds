{
 "cells": [
  {
   "cell_type": "code",
   "execution_count": 1,
   "metadata": {},
   "outputs": [
    {
     "name": "stdout",
     "output_type": "stream",
     "text": [
      "Введите ДА или НЕТ: дА\n",
      "Вы ответили \"ДА\"! Я счастлив!\n"
     ]
    }
   ],
   "source": [
    "answer = input('Введите ДА или НЕТ: ')\n",
    "if answer.lower() == 'да':\n",
    "    print('Вы ответили \"ДА\"! Я счастлив!')"
   ]
  },
  {
   "cell_type": "code",
   "execution_count": 3,
   "metadata": {},
   "outputs": [
    {
     "name": "stdout",
     "output_type": "stream",
     "text": [
      "[3.14, 2.71, 6.02, 11.22, 123.987]\n"
     ]
    }
   ],
   "source": [
    "new_numbers = []\n",
    "for number in '3,14 2,71 6,02 11,22 123,987'.split():\n",
    "    new_numbers.append(float(number.replace(',', '.')))\n",
    "print(new_numbersИнтернет-открытки - э)"
   ]
  },
  {
   "cell_type": "code",
   "execution_count": 5,
   "metadata": {},
   "outputs": [
    {
     "name": "stdout",
     "output_type": "stream",
     "text": [
      "лучшее\n"
     ]
    }
   ],
   "source": [
    "string = 'Интернет-открытки - это лучшее средство для мужчины сказать женщине о своих чувствах прямо в глаза.'\n",
    "secret = string[24:30]\n",
    "new_string = string.replace(secret.lower(), secret.upper()) \n",
    "print(secret)"
   ]
  },
  {
   "cell_type": "code",
   "execution_count": 35,
   "metadata": {},
   "outputs": [
    {
     "name": "stdout",
     "output_type": "stream",
     "text": [
      ":)\n"
     ]
    }
   ],
   "source": [
    "string = 'Тяжёлая интернет-зависимость - это когда ты выходишь из интернета, а он из тебя нет.'\n",
    "for i in string:\n",
    "    if i in ' ,.:-':\n",
    "        string = string.replace(string[:],':)')\n",
    "print(string)"
   ]
  },
  {
   "cell_type": "code",
   "execution_count": null,
   "metadata": {},
   "outputs": [],
   "source": []
  },
  {
   "cell_type": "code",
   "execution_count": null,
   "metadata": {},
   "outputs": [],
   "source": []
  }
 ],
 "metadata": {
  "kernelspec": {
   "display_name": "Python 3",
   "language": "python",
   "name": "python3"
  },
  "language_info": {
   "codemirror_mode": {
    "name": "ipython",
    "version": 3
   },
   "file_extension": ".py",
   "mimetype": "text/x-python",
   "name": "python",
   "nbconvert_exporter": "python",
   "pygments_lexer": "ipython3",
   "version": "3.8.3"
  }
 },
 "nbformat": 4,
 "nbformat_minor": 4
}
