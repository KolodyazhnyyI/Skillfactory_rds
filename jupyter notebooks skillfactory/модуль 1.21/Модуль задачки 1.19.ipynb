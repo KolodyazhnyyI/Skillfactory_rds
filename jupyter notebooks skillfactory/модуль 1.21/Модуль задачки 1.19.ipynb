{
 "cells": [
  {
   "cell_type": "code",
   "execution_count": 10,
   "metadata": {},
   "outputs": [
    {
     "name": "stdout",
     "output_type": "stream",
     "text": [
      "п\n",
      "д\n",
      "и\n",
      "н\n",
      "к\n"
     ]
    }
   ],
   "source": [
    "word='подшипник'\n",
    "for i, letter in enumerate(word):\n",
    "    if i%2==0:\n",
    "        print(letter)"
   ]
  },
  {
   "cell_type": "code",
   "execution_count": 16,
   "metadata": {},
   "outputs": [
    {
     "name": "stdout",
     "output_type": "stream",
     "text": [
      "2013 год невисокосный\n",
      "2014 год невисокосный\n",
      "2015 год невисокосный\n",
      "2016 год високосный\n",
      "2017 год невисокосный\n",
      "2018 год невисокосный\n",
      "2019 год невисокосный\n",
      "2020 год високосный\n"
     ]
    }
   ],
   "source": [
    "year_1=2013\n",
    "year_2=2020\n",
    "for i in range(year_1,year_2+1):\n",
    "    if i%4==0:\n",
    "        print(i,'год високосный')\n",
    "    else:\n",
    "        print(i,'год невисокосный')"
   ]
  },
  {
   "cell_type": "code",
   "execution_count": 1,
   "metadata": {},
   "outputs": [
    {
     "name": "stdout",
     "output_type": "stream",
     "text": [
      "и\n",
      "у\n",
      "а\n",
      "и\n",
      "а\n"
     ]
    }
   ],
   "source": [
    "word = 'Зимушка-зима'\n",
    "for i, letter in enumerate(word):\n",
    "    if letter in 'аеёиоуыэюя':\n",
    "        print(letter)"
   ]
  },
  {
   "cell_type": "code",
   "execution_count": 22,
   "metadata": {},
   "outputs": [
    {
     "name": "stdout",
     "output_type": "stream",
     "text": [
      "Буква 1 в этом имени - С\n",
      "Буква 2 в этом имени - е\n",
      "Буква 3 в этом имени - р\n",
      "Буква 4 в этом имени - г\n",
      "Буква 5 в этом имени - е\n",
      "Буква 6 в этом имени - й\n"
     ]
    }
   ],
   "source": [
    "name = 'Сергей'\n",
    "for i,letter in enumerate(name):\n",
    "    print('Буква',i+1,'в этом имени -',letter)"
   ]
  },
  {
   "cell_type": "code",
   "execution_count": 27,
   "metadata": {},
   "outputs": [
    {
     "name": "stdout",
     "output_type": "stream",
     "text": [
      "25\n",
      "27\n",
      "33\n",
      "35\n",
      "39\n",
      "45\n"
     ]
    }
   ],
   "source": [
    "num_1 = 25\n",
    "num_2 = 45\n",
    "if num_2<num_1 or num_1<0:\n",
    "    print('Введён неверный диапазон чисел')\n",
    "for i in range(num_1,num_2+1):\n",
    "    if (i%3==0 or i%5==0) and i%2!=0:\n",
    "        print(i)"
   ]
  }
 ],
 "metadata": {
  "kernelspec": {
   "display_name": "Python 3",
   "language": "python",
   "name": "python3"
  },
  "language_info": {
   "codemirror_mode": {
    "name": "ipython",
    "version": 3
   },
   "file_extension": ".py",
   "mimetype": "text/x-python",
   "name": "python",
   "nbconvert_exporter": "python",
   "pygments_lexer": "ipython3",
   "version": "3.7.7"
  }
 },
 "nbformat": 4,
 "nbformat_minor": 4
}
