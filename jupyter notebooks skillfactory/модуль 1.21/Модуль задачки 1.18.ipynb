{
 "cells": [
  {
   "cell_type": "code",
   "execution_count": null,
   "metadata": {},
   "outputs": [],
   "source": [
    "flower='роза'\n",
    "color='фиолетовый'\n",
    "if flower=='роза' and (color=='синий' or color=='белый'):\n",
    "    print('Ане понравятся эти цветы')\n",
    "else:\n",
    "    print('Аня не фанат таких цветов')"
   ]
  },
  {
   "cell_type": "code",
   "execution_count": null,
   "metadata": {},
   "outputs": [],
   "source": [
    "height = 180\n",
    "weight = 92\n",
    "color = 'синий'\n",
    "if height>170 and weight<80 and color=='красный':\n",
    "    print('Ваша половинка нашлась!')\n",
    "else:\n",
    "    print('Попробуем поискать ещё...')"
   ]
  },
  {
   "cell_type": "code",
   "execution_count": 1,
   "metadata": {},
   "outputs": [
    {
     "name": "stdout",
     "output_type": "stream",
     "text": [
      "Вова, это нужное число\n"
     ]
    }
   ],
   "source": [
    "number=346\n",
    "if number%2==0 or number%5==0 or number%173==0 or number%821==0:\n",
    "    print('Вова, это нужное число')\n",
    "else:\n",
    "    print('Вова, в этот раз ты не попал')"
   ]
  },
  {
   "cell_type": "code",
   "execution_count": 2,
   "metadata": {},
   "outputs": [
    {
     "name": "stdout",
     "output_type": "stream",
     "text": [
      "Python\n"
     ]
    }
   ],
   "source": [
    "fav_word = 'Аппликация'\n",
    "if fav_word=='рептилия' or fav_word=='питон' or fav_word=='змея':\n",
    "    print('Python')\n",
    "if fav_word=='плюсы' or fav_word=='плюс':\n",
    "    print('С++')\n",
    "if fav_word=='рубин' or fav_word=='кристалл':\n",
    "    print('Ruby')\n",
    "else:\n",
    "    print('Python')"
   ]
  },
  {
   "cell_type": "code",
   "execution_count": 3,
   "metadata": {},
   "outputs": [
    {
     "name": "stdout",
     "output_type": "stream",
     "text": [
      "Преподаватель занят.\n"
     ]
    }
   ],
   "source": [
    "hour=18\n",
    "minute=47\n",
    "if ((hour>10 or hour<12) and (minute<59 or minute>30)) or ((hour>13 or hour<15) and (minute<59 or minute>40)) or ((hour>18 or hour<19) and (minute<59 or minute>30)):\n",
    "    print('Преподаватель занят.')\n",
    "else:\n",
    "    print('Преподаватель свободен.')"
   ]
  }
 ],
 "metadata": {
  "kernelspec": {
   "display_name": "Python 3",
   "language": "python",
   "name": "python3"
  },
  "language_info": {
   "codemirror_mode": {
    "name": "ipython",
    "version": 3
   },
   "file_extension": ".py",
   "mimetype": "text/x-python",
   "name": "python",
   "nbconvert_exporter": "python",
   "pygments_lexer": "ipython3",
   "version": "3.7.7"
  }
 },
 "nbformat": 4,
 "nbformat_minor": 4
}
