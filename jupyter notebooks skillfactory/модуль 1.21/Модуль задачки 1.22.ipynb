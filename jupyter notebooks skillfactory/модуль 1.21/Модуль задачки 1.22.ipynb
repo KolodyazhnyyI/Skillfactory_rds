{
 "cells": [
  {
   "cell_type": "code",
   "execution_count": 1,
   "metadata": {},
   "outputs": [
    {
     "name": "stdout",
     "output_type": "stream",
     "text": [
      "19\n"
     ]
    }
   ],
   "source": [
    "#Y = int(input()) рубли\n",
    "#Z = int(input()) искомая прибыль не менее рублей\n",
    "Y = 170000\n",
    "Z = 1000000\n",
    "year=0\n",
    "while Y<Z:\n",
    "    Y=Y*1.1\n",
    "    year+=1\n",
    "print(year)"
   ]
  },
  {
   "cell_type": "code",
   "execution_count": 3,
   "metadata": {},
   "outputs": [
    {
     "name": "stdout",
     "output_type": "stream",
     "text": [
      "Перевес 62 кг\n"
     ]
    }
   ],
   "source": [
    "weight = 77\n",
    "total=0\n",
    "while total<= 400:\n",
    "   total+=weight\n",
    "else:\n",
    "   print('Перевес',total-400,'кг')"
   ]
  },
  {
   "cell_type": "code",
   "execution_count": 5,
   "metadata": {},
   "outputs": [
    {
     "name": "stdout",
     "output_type": "stream",
     "text": [
      "7\n"
     ]
    }
   ],
   "source": [
    "attack = 80\n",
    "current_health=500\n",
    "sec_to_death=0\n",
    "while current_health>0:\n",
    "    current_health=current_health-attack\n",
    "    sec_to_death+=1\n",
    "print(sec_to_death)"
   ]
  },
  {
   "cell_type": "code",
   "execution_count": 6,
   "metadata": {
    "scrolled": true
   },
   "outputs": [
    {
     "name": "stdout",
     "output_type": "stream",
     "text": [
      "10000\n",
      "7200\n",
      "4400\n",
      "1600\n",
      "Слишком большие расходы\n"
     ]
    }
   ],
   "source": [
    "balance=10000\n",
    "spent=2800\n",
    "while balance>0:\n",
    "    print(balance)\n",
    "    balance=balance-spent\n",
    "print('Слишком большие расходы')"
   ]
  },
  {
   "cell_type": "code",
   "execution_count": 7,
   "metadata": {},
   "outputs": [
    {
     "name": "stdout",
     "output_type": "stream",
     "text": [
      "20\n"
     ]
    }
   ],
   "source": [
    "volume=1000\n",
    "robot=5\n",
    "zahod=0\n",
    "while volume>0:\n",
    "    volume=volume-robot\n",
    "    robot+=5\n",
    "    zahod+=1\n",
    "print(zahod)"
   ]
  },
  {
   "cell_type": "code",
   "execution_count": 18,
   "metadata": {},
   "outputs": [
    {
     "name": "stdout",
     "output_type": "stream",
     "text": [
      "12\n"
     ]
    }
   ],
   "source": [
    "count=1\n",
    "while count<27:\n",
    "    if count%2==0:\n",
    "        to_print=12\n",
    "    else:\n",
    "        to_print=10\n",
    "    count+=1\n",
    "print(to_print)"
   ]
  }
 ],
 "metadata": {
  "kernelspec": {
   "display_name": "Python 3",
   "language": "python",
   "name": "python3"
  },
  "language_info": {
   "codemirror_mode": {
    "name": "ipython",
    "version": 3
   },
   "file_extension": ".py",
   "mimetype": "text/x-python",
   "name": "python",
   "nbconvert_exporter": "python",
   "pygments_lexer": "ipython3",
   "version": "3.7.7"
  }
 },
 "nbformat": 4,
 "nbformat_minor": 4
}
