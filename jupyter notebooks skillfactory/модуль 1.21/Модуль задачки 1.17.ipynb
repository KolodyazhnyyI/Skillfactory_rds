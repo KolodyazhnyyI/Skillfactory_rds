{
 "cells": [
  {
   "cell_type": "code",
   "execution_count": 2,
   "metadata": {},
   "outputs": [
    {
     "name": "stdout",
     "output_type": "stream",
     "text": [
      "пятница\n"
     ]
    }
   ],
   "source": [
    "number = 5\n",
    "if number==5:\n",
    "    print('пятница')\n",
    "else:\n",
    "    print('зачем парится, введи 5')"
   ]
  },
  {
   "cell_type": "code",
   "execution_count": 3,
   "metadata": {},
   "outputs": [
    {
     "name": "stdout",
     "output_type": "stream",
     "text": [
      "Норма\n"
     ]
    }
   ],
   "source": [
    "weight = 80\n",
    "height=1.8\n",
    "if weight/height**2>18.5 and weight/height**2<24.99:\n",
    "    print('Норма')\n",
    "elif weight/height**2>24.99:\n",
    "    print('Избыточная масса тела')\n",
    "elif weight/height**2<18.5:\n",
    "    print('Избыточная масса тела')"
   ]
  },
  {
   "cell_type": "code",
   "execution_count": 6,
   "metadata": {},
   "outputs": [
    {
     "name": "stdout",
     "output_type": "stream",
     "text": [
      "хорошо\n"
     ]
    }
   ],
   "source": [
    "mark=7\n",
    "if mark>=8:\n",
    "    print('отлично')\n",
    "elif mark>=6 and mark<=7:\n",
    "    print('хорошо')\n",
    "elif mark>=4 and mark<=5:\n",
    "    print('удовлетворительно')\n",
    "else:\n",
    "    print('неудовлетворительно')"
   ]
  },
  {
   "cell_type": "code",
   "execution_count": 7,
   "metadata": {},
   "outputs": [
    {
     "name": "stdout",
     "output_type": "stream",
     "text": [
      "Придётся потерпеть!\n"
     ]
    }
   ],
   "source": [
    "balance = 455\n",
    "if balance>5000:\n",
    "    print('Сегодня твой выбор - ресторан!')\n",
    "elif balance<5000 and balance>2500:\n",
    "    print('Эх, только фастфуд.')\n",
    "elif balance<2500:\n",
    "    print('Придётся потерпеть!')"
   ]
  },
  {
   "cell_type": "code",
   "execution_count": 8,
   "metadata": {},
   "outputs": [
    {
     "name": "stdout",
     "output_type": "stream",
     "text": [
      "Число делится на 2 без остатка.\n"
     ]
    }
   ],
   "source": [
    "number=452\n",
    "if number%2==0:\n",
    "    print('Число делится на 2 без остатка.')\n",
    "elif number%3==0:\n",
    "    print('Число делится на 3 без остатка.')\n",
    "elif number%5==0:\n",
    "    print('Число делится на 5 без остатка.')\n",
    "else:\n",
    "    print('Число не делится ни на 2, ни на 3, ни на 5 без остатка!')"
   ]
  }
 ],
 "metadata": {
  "kernelspec": {
   "display_name": "Python 3",
   "language": "python",
   "name": "python3"
  },
  "language_info": {
   "codemirror_mode": {
    "name": "ipython",
    "version": 3
   },
   "file_extension": ".py",
   "mimetype": "text/x-python",
   "name": "python",
   "nbconvert_exporter": "python",
   "pygments_lexer": "ipython3",
   "version": "3.7.9"
  }
 },
 "nbformat": 4,
 "nbformat_minor": 4
}
