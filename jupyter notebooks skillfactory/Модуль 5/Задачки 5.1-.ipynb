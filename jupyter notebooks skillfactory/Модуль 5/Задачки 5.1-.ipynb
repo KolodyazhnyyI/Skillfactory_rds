{
 "cells": [
  {
   "cell_type": "code",
   "execution_count": 3,
   "metadata": {},
   "outputs": [
    {
     "data": {
      "text/plain": [
       "Первый        Январь\n",
       "Второй       Февраль\n",
       "Третий          Март\n",
       "Четвёртый     Апрель\n",
       "dtype: object"
      ]
     },
     "metadata": {},
     "output_type": "display_data"
    }
   ],
   "source": [
    "import pandas as pd\n",
    "\n",
    "data = pd.Series([\"Январь\", \"Февраль\", \"Март\", \"Апрель\"],\n",
    "                 index = ['Первый', \"Второй\", \"Третий\", \"Четвёртый\"])\n",
    "display(data)"
   ]
  },
  {
   "cell_type": "code",
   "execution_count": 18,
   "metadata": {},
   "outputs": [
    {
     "name": "stdout",
     "output_type": "stream",
     "text": [
      "-70\n",
      "1000\n"
     ]
    }
   ],
   "source": [
    "import pandas as pd\n",
    "data = pd.Series(list(range(10, 1001)))\n",
    "print(data.loc[10] + data.loc[23] - data.loc[245] + data.iloc[122])\n",
    "print(data.loc[990])"
   ]
  },
  {
   "cell_type": "code",
   "execution_count": 20,
   "metadata": {},
   "outputs": [
    {
     "data": {
      "text/plain": [
       "3        Кот\n",
       "7     Собака\n",
       "12    Корова\n",
       "26     Лемур\n",
       "dtype: object"
      ]
     },
     "execution_count": 20,
     "metadata": {},
     "output_type": "execute_result"
    }
   ],
   "source": [
    "pd.Series([\"Кот\", \"Собака\", \"Корова\", \"Лемур\"], index = [3,7,12,26])"
   ]
  },
  {
   "cell_type": "code",
   "execution_count": 21,
   "metadata": {},
   "outputs": [
    {
     "data": {
      "text/html": [
       "<div>\n",
       "<style scoped>\n",
       "    .dataframe tbody tr th:only-of-type {\n",
       "        vertical-align: middle;\n",
       "    }\n",
       "\n",
       "    .dataframe tbody tr th {\n",
       "        vertical-align: top;\n",
       "    }\n",
       "\n",
       "    .dataframe thead th {\n",
       "        text-align: right;\n",
       "    }\n",
       "</style>\n",
       "<table border=\"1\" class=\"dataframe\">\n",
       "  <thead>\n",
       "    <tr style=\"text-align: right;\">\n",
       "      <th></th>\n",
       "      <th>col1</th>\n",
       "      <th>col2</th>\n",
       "    </tr>\n",
       "  </thead>\n",
       "  <tbody>\n",
       "    <tr>\n",
       "      <th>0</th>\n",
       "      <td>1</td>\n",
       "      <td>3</td>\n",
       "    </tr>\n",
       "    <tr>\n",
       "      <th>1</th>\n",
       "      <td>2</td>\n",
       "      <td>4</td>\n",
       "    </tr>\n",
       "  </tbody>\n",
       "</table>\n",
       "</div>"
      ],
      "text/plain": [
       "   col1  col2\n",
       "0     1     3\n",
       "1     2     4"
      ]
     },
     "metadata": {},
     "output_type": "display_data"
    }
   ],
   "source": [
    "df = pd.DataFrame({'col1': [1, 2], 'col2': [3, 4]})\n",
    "display(df)"
   ]
  },
  {
   "cell_type": "code",
   "execution_count": 65,
   "metadata": {},
   "outputs": [],
   "source": [
    "import pandas as pd\n",
    "football=pd.read_csv('data_sf.csv')\n",
    "#display(football.head(2))\n",
    "#display(football.tail(2))\n",
    "#display(football.info())\n",
    "#football.describe()\n",
    "#football.describe(include = ['object'])\n",
    "#football.mean()\n",
    "#football.sum()"
   ]
  },
  {
   "cell_type": "code",
   "execution_count": 73,
   "metadata": {},
   "outputs": [
    {
     "data": {
      "text/plain": [
       "22789"
      ]
     },
     "execution_count": 73,
     "metadata": {},
     "output_type": "execute_result"
    }
   ],
   "source": [
    "import pandas as pd\n",
    "football=pd.read_csv('data_sf.csv')\n",
    "football[football.Nationality == 'Brazil'].Penalties.sum()"
   ]
  },
  {
   "cell_type": "code",
   "execution_count": 80,
   "metadata": {},
   "outputs": [
    {
     "data": {
      "text/plain": [
       "24"
      ]
     },
     "execution_count": 80,
     "metadata": {},
     "output_type": "execute_result"
    }
   ],
   "source": [
    "import pandas as pd\n",
    "football=pd.read_csv('data_sf.csv')\n",
    "football[(football.Reactions>football.Reactions.max()*0.9)&(football.Composure>football.Composure.max()*0.9)].Age.min()"
   ]
  },
  {
   "cell_type": "code",
   "execution_count": null,
   "metadata": {},
   "outputs": [],
   "source": [
    "import pandas as pd\n",
    "football=pd.read_csv('data_sf.csv')"
   ]
  },
  {
   "cell_type": "code",
   "execution_count": 2,
   "metadata": {},
   "outputs": [
    {
     "data": {
      "text/plain": [
       "Spain            211\n",
       "Brazil           130\n",
       "France           123\n",
       "Argentina        122\n",
       "England          113\n",
       "                ... \n",
       "Mauritania         1\n",
       "Bulgaria           1\n",
       "Iceland            1\n",
       "Tanzania           1\n",
       "Guinea Bissau      1\n",
       "Name: Nationality, Length: 98, dtype: int64"
      ]
     },
     "execution_count": 2,
     "metadata": {},
     "output_type": "execute_result"
    }
   ],
   "source": [
    "import pandas as pd\n",
    "football=pd.read_csv('data_sf.csv')\n",
    "football[(football.Value>football.Value.mean())].Nationality.value_counts()"
   ]
  },
  {
   "cell_type": "code",
   "execution_count": 86,
   "metadata": {},
   "outputs": [
    {
     "name": "stdout",
     "output_type": "stream",
     "text": [
      "2.076923076923077\n"
     ]
    }
   ],
   "source": [
    "import pandas as pd\n",
    "football=pd.read_csv('data_sf.csv')\n",
    "print(football[football.Aggression == football.Aggression.max()].ShotPower.mean()\n",
    "      / football[football.Aggression == football.Aggression.min()].ShotPower.mean())"
   ]
  },
  {
   "cell_type": "code",
   "execution_count": 91,
   "metadata": {},
   "outputs": [
    {
     "name": "stdout",
     "output_type": "stream",
     "text": [
      "22.642857142857146\n"
     ]
    }
   ],
   "source": [
    "import pandas as pd\n",
    "football=pd.read_csv('data_sf.csv')\n",
    "print(football[football.Age==football.Age.max()].Reactions.mean()-football[football.Age==football.Age.min()].Reactions.mean())"
   ]
  },
  {
   "cell_type": "code",
   "execution_count": 3,
   "metadata": {},
   "outputs": [
    {
     "name": "stdout",
     "output_type": "stream",
     "text": [
      "2.765957446808511\n"
     ]
    }
   ],
   "source": [
    "import pandas as pd\n",
    "football=pd.read_csv('data_sf.csv')\n",
    "print(football[(football.GKReflexes==football.GKReflexes.max())&(football.Position=='GK')].Wage.mean()/\n",
    "football[(football.GKHandling==football.GKHandling.max())&(football.Position=='GK')].Wage.mean())"
   ]
  },
  {
   "cell_type": "code",
   "execution_count": null,
   "metadata": {},
   "outputs": [],
   "source": []
  }
 ],
 "metadata": {
  "kernelspec": {
   "display_name": "Python 3",
   "language": "python",
   "name": "python3"
  },
  "language_info": {
   "codemirror_mode": {
    "name": "ipython",
    "version": 3
   },
   "file_extension": ".py",
   "mimetype": "text/x-python",
   "name": "python",
   "nbconvert_exporter": "python",
   "pygments_lexer": "ipython3",
   "version": "3.8.3"
  }
 },
 "nbformat": 4,
 "nbformat_minor": 4
}
