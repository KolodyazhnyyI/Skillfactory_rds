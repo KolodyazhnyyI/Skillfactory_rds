{
 "cells": [
  {
   "cell_type": "code",
   "execution_count": 2,
   "metadata": {},
   "outputs": [],
   "source": [
    "import numpy as np"
   ]
  },
  {
   "cell_type": "code",
   "execution_count": 6,
   "metadata": {},
   "outputs": [
    {
     "name": "stdout",
     "output_type": "stream",
     "text": [
      "Сумма: [15 21 27]\n",
      "Разность: [9 9 9]\n",
      "Произведение: [ 36  90 162]\n",
      "Частное: [0.25 0.4  0.5 ]\n",
      "Умножение на число: [ 6 12 18]\n"
     ]
    }
   ],
   "source": [
    "a = np.array([3,6,9])\n",
    "b = np.array([12,15,18])\n",
    "\n",
    "result1 = a+b\n",
    "result2 = b-a\n",
    "result3 = a*b\n",
    "result4 = a/b\n",
    "result5 = a*2\n",
    "print('Сумма: {}\\nРазность: {}\\nПроизведение: {}\\n\\\n",
    "Частное: {}\\nУмножение на число: {}'\\\n",
    "      .format(result1, result2, result3, result4, result5))"
   ]
  },
  {
   "cell_type": "code",
   "execution_count": 10,
   "metadata": {},
   "outputs": [
    {
     "name": "stdout",
     "output_type": "stream",
     "text": [
      "[[ 1  2  3  4  5]\n",
      " [ 6  7  8  9 10]]\n"
     ]
    },
    {
     "data": {
      "text/plain": [
       "array([[ 1,  6],\n",
       "       [ 2,  7],\n",
       "       [ 3,  8],\n",
       "       [ 4,  9],\n",
       "       [ 5, 10]])"
      ]
     },
     "execution_count": 10,
     "metadata": {},
     "output_type": "execute_result"
    }
   ],
   "source": [
    "my_array = np.array([[1,2,3,4,5], [6,7,8,9,10]])\n",
    "print(np.array([[1,2,3,4,5], [6,7,8,9,10]]))\n",
    "my_array.T"
   ]
  },
  {
   "cell_type": "code",
   "execution_count": 11,
   "metadata": {},
   "outputs": [
    {
     "name": "stdout",
     "output_type": "stream",
     "text": [
      "[7 5 3 2 5 6 7 5 9 4 9 1 9 5 7 4 9 6 0 1]\n"
     ]
    },
    {
     "data": {
      "text/plain": [
       "array([[2, 5, 1, 0, 2],\n",
       "       [4, 2, 8, 9, 2],\n",
       "       [3, 3, 5, 5, 8],\n",
       "       [7, 2, 4, 0, 9]])"
      ]
     },
     "execution_count": 11,
     "metadata": {},
     "output_type": "execute_result"
    }
   ],
   "source": [
    "my_array = np.random.randint(0, 10, 20)\n",
    "print(np.random.randint(0, 10, 20))\n",
    "my_array.reshape((4,5))"
   ]
  },
  {
   "cell_type": "code",
   "execution_count": null,
   "metadata": {},
   "outputs": [],
   "source": []
  }
 ],
 "metadata": {
  "kernelspec": {
   "display_name": "Python 3",
   "language": "python",
   "name": "python3"
  },
  "language_info": {
   "codemirror_mode": {
    "name": "ipython",
    "version": 3
   },
   "file_extension": ".py",
   "mimetype": "text/x-python",
   "name": "python",
   "nbconvert_exporter": "python",
   "pygments_lexer": "ipython3",
   "version": "3.8.3"
  }
 },
 "nbformat": 4,
 "nbformat_minor": 4
}
