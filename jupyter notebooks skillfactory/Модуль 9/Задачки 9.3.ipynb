{
 "cells": [
  {
   "cell_type": "code",
   "execution_count": 1,
   "metadata": {},
   "outputs": [],
   "source": [
    "import numpy as np"
   ]
  },
  {
   "cell_type": "code",
   "execution_count": 2,
   "metadata": {},
   "outputs": [
    {
     "data": {
      "text/plain": [
       "5"
      ]
     },
     "metadata": {},
     "output_type": "display_data"
    },
    {
     "data": {
      "text/plain": [
       "9"
      ]
     },
     "metadata": {},
     "output_type": "display_data"
    },
    {
     "data": {
      "text/plain": [
       "array([3, 4, 5])"
      ]
     },
     "metadata": {},
     "output_type": "display_data"
    },
    {
     "data": {
      "text/plain": [
       "array([1, 4, 7])"
      ]
     },
     "metadata": {},
     "output_type": "display_data"
    }
   ],
   "source": [
    "my_array = np.array([x for x in range(10)])\n",
    "display(my_array[5])\n",
    "display(my_array[-1])\n",
    "display(my_array[3:6])\n",
    "display(my_array[1:8:3])"
   ]
  },
  {
   "cell_type": "code",
   "execution_count": 3,
   "metadata": {
    "scrolled": true
   },
   "outputs": [
    {
     "data": {
      "text/plain": [
       "12"
      ]
     },
     "metadata": {},
     "output_type": "display_data"
    },
    {
     "data": {
      "text/plain": [
       "12"
      ]
     },
     "metadata": {},
     "output_type": "display_data"
    }
   ],
   "source": [
    "my_array = np.array([[1,2,3,4],\n",
    "                     [10,11,12,13],\n",
    "                     [45,46,47,48]])\n",
    "display(my_array[1][2])\n",
    "display(my_array[1,2])"
   ]
  },
  {
   "cell_type": "markdown",
   "metadata": {},
   "source": [
    "# Упражнения\n",
    "\n",
    "Потренируемся извлекать из двумерного массива отдельные элементы и их срезы и производить над ними математические действия. Задания блока будем выполнять на примере массива, созданного кодом:"
   ]
  },
  {
   "cell_type": "code",
   "execution_count": 43,
   "metadata": {},
   "outputs": [],
   "source": [
    "first_line = [x*y for x in range(2, 100, 6) for y in range (7, 1, -2)]\n",
    "second_line = [x ** 0.5 for x in range(1000, 1101, 2)]\n",
    "third_line = [x**2 for x in range(51)]\n",
    "\n",
    "big_secret = np.array([first_line, second_line, third_line, second_line, first_line])"
   ]
  },
  {
   "cell_type": "markdown",
   "metadata": {},
   "source": [
    "###### Пока мы не научились применять функции NumPy к массивам и их фрагментам, используйте цикл с параметром для организации вычислений."
   ]
  },
  {
   "cell_type": "markdown",
   "metadata": {},
   "source": [
    "#### Чему равна сумма элементов последнего столбца массива? Ответ округлите до двух цифр после запятой:"
   ]
  },
  {
   "cell_type": "code",
   "execution_count": 5,
   "metadata": {
    "scrolled": true
   },
   "outputs": [
    {
     "data": {
      "text/plain": [
       "3154.332495807108"
      ]
     },
     "execution_count": 5,
     "metadata": {},
     "output_type": "execute_result"
    }
   ],
   "source": [
    "big_secret[:,-1].sum()"
   ]
  },
  {
   "cell_type": "markdown",
   "metadata": {},
   "source": [
    "#### Выделите из каждой строки массива big_secret первые 5 элементов. Чему равна сумма элементов главной диагонали получившейся матрицы? Округлите ответ до двух цифр после запятой:"
   ]
  },
  {
   "cell_type": "code",
   "execution_count": 6,
   "metadata": {},
   "outputs": [
    {
     "data": {
      "text/plain": [
       "121.37"
      ]
     },
     "execution_count": 6,
     "metadata": {},
     "output_type": "execute_result"
    }
   ],
   "source": [
    "new_array = big_secret[:, 0:6]\n",
    "j=0\n",
    "sum=0\n",
    "for i in new_array:\n",
    "    sum+=new_array[j,j]\n",
    "    j+=1\n",
    "round(sum,2)"
   ]
  },
  {
   "cell_type": "markdown",
   "metadata": {},
   "source": [
    "#### Выделите из каждой строки массива big_secret последние 5 элементов. Чему равно произведение элементов главной диагонали получившейся матрицы? Введите полученный результат без изменений и округлений."
   ]
  },
  {
   "cell_type": "code",
   "execution_count": 25,
   "metadata": {
    "scrolled": true
   },
   "outputs": [
    {
     "name": "stdout",
     "output_type": "stream",
     "text": [
      "[[ 460.          276.          686.          490.          294.        ]\n",
      " [  33.04542328   33.07567082   33.10589071   33.13608305   33.1662479 ]\n",
      " [2116.         2209.         2304.         2401.         2500.        ]\n",
      " [  33.04542328   33.07567082   33.10589071   33.13608305   33.1662479 ]\n",
      " [ 460.          276.          686.          490.          294.        ]]\n",
      "460.0\n",
      "33.075670817082454\n",
      "2304.0\n",
      "33.13608305156178\n",
      "294.0\n",
      "341505315559.2347\n"
     ]
    }
   ],
   "source": [
    "new_array = big_secret[:, -5:]\n",
    "print(new_array)\n",
    "diag=1\n",
    "for i in range(5):\n",
    "    diag=diag*new_array[i,i]\n",
    "    print(new_array[i,i])\n",
    "print(diag)"
   ]
  },
  {
   "cell_type": "markdown",
   "metadata": {},
   "source": [
    "# Упражнения\n",
    "Продолжим работать с массивом big_secret. Замените на 1 все элементы, у которых оба индекса нечётные, и на -1 все элементы, у которых оба индекса чётные."
   ]
  },
  {
   "cell_type": "code",
   "execution_count": 44,
   "metadata": {},
   "outputs": [
    {
     "name": "stdout",
     "output_type": "stream",
     "text": [
      "[[14.         10.          6.         56.         40.        ]\n",
      " [31.6227766  31.65438358 31.68595904 31.71750305 31.74901573]\n",
      " [ 0.          1.          4.          9.         16.        ]\n",
      " [31.6227766  31.65438358 31.68595904 31.71750305 31.74901573]\n",
      " [14.         10.          6.         56.         40.        ]]\n",
      "=============================================================================\n",
      "[[14.         10.          6.         56.         40.        ]\n",
      " [31.6227766  31.65438358 31.68595904 31.71750305 31.74901573]\n",
      " [ 0.          1.          4.          9.         16.        ]\n",
      " [31.6227766  31.65438358 31.68595904 31.71750305 31.74901573]\n",
      " [14.         10.          6.         56.         40.        ]]\n",
      "================================================================================\n",
      "[[-1.         10.         -1.         56.         -1.        ]\n",
      " [31.6227766   1.         31.68595904  1.         31.74901573]\n",
      " [-1.          1.         -1.          9.         -1.        ]\n",
      " [31.6227766   1.         31.68595904  1.         31.74901573]\n",
      " [-1.         10.         -1.         56.         -1.        ]]\n"
     ]
    }
   ],
   "source": [
    "new_array=big_secret\n",
    "print(big_secret[0:5,0:5])\n",
    "print('=============================================================================')\n",
    "print(new_array[0:5,0:5])\n",
    "print('================================================================================')\n",
    "slice_x1=new_array[1::2,1::2]\n",
    "slice_x1[:]=1\n",
    "slice_x2=new_array[::2,::2]\n",
    "slice_x2[:]=-1\n",
    "print(new_array[0:5,0:5])"
   ]
  },
  {
   "cell_type": "markdown",
   "metadata": {},
   "source": [
    "#### Выделите из каждой строки обновлённого массива big_secret первые 5 элементов. Чему равна сумма элементов главной диагонали получившейся матрицы? Введите полученный ответ без изменений и округлений."
   ]
  },
  {
   "cell_type": "code",
   "execution_count": 48,
   "metadata": {},
   "outputs": [
    {
     "name": "stdout",
     "output_type": "stream",
     "text": [
      "[[-1.         10.         -1.         56.         -1.         24.        ]\n",
      " [31.6227766   1.         31.68595904  1.         31.74901573  1.        ]\n",
      " [-1.          1.         -1.          9.         -1.         25.        ]\n",
      " [31.6227766   1.         31.68595904  1.         31.74901573  1.        ]\n",
      " [-1.         10.         -1.         56.         -1.         24.        ]]\n",
      "================================================================================\n",
      "-1.0\n"
     ]
    }
   ],
   "source": [
    "print(big_secret[:,:6])\n",
    "summ=0\n",
    "sum_array=big_secret[:,:6]\n",
    "for i in range(5):\n",
    "    summ=summ+sum_array[i,i]\n",
    "print('================================================================================')\n",
    "print(summ)"
   ]
  },
  {
   "cell_type": "markdown",
   "metadata": {},
   "source": [
    "#### Выделите из каждой строки обновлённого массива big_secret последние 5 элементов. Чему равно произведение элементов главной диагонали получившейся матрицы? Введите полученный результат без изменений и округлений."
   ]
  },
  {
   "cell_type": "code",
   "execution_count": 50,
   "metadata": {},
   "outputs": [
    {
     "name": "stdout",
     "output_type": "stream",
     "text": [
      "[[-1.00000000e+00  2.76000000e+02 -1.00000000e+00  4.90000000e+02\n",
      "  -1.00000000e+00]\n",
      " [ 3.30454233e+01  1.00000000e+00  3.31058907e+01  1.00000000e+00\n",
      "   3.31662479e+01]\n",
      " [-1.00000000e+00  2.20900000e+03 -1.00000000e+00  2.40100000e+03\n",
      "  -1.00000000e+00]\n",
      " [ 3.30454233e+01  1.00000000e+00  3.31058907e+01  1.00000000e+00\n",
      "   3.31662479e+01]\n",
      " [-1.00000000e+00  2.76000000e+02 -1.00000000e+00  4.90000000e+02\n",
      "  -1.00000000e+00]]\n",
      "================================================================================\n",
      "[[-1.00000000e+00  2.76000000e+02 -1.00000000e+00  4.90000000e+02\n",
      "  -1.00000000e+00]\n",
      " [ 3.30454233e+01  1.00000000e+00  3.31058907e+01  1.00000000e+00\n",
      "   3.31662479e+01]\n",
      " [-1.00000000e+00  2.20900000e+03 -1.00000000e+00  2.40100000e+03\n",
      "  -1.00000000e+00]\n",
      " [ 3.30454233e+01  1.00000000e+00  3.31058907e+01  1.00000000e+00\n",
      "   3.31662479e+01]\n",
      " [-1.00000000e+00  2.76000000e+02 -1.00000000e+00  4.90000000e+02\n",
      "  -1.00000000e+00]]\n",
      "================================================================================\n",
      "-1.0\n"
     ]
    }
   ],
   "source": [
    "print(big_secret[:,-5:])\n",
    "diag=big_secret[:,-5:]\n",
    "print('================================================================================')\n",
    "print(diag)\n",
    "j=1\n",
    "for i in range(5):\n",
    "    j=j*diag[i,i]\n",
    "print('================================================================================')\n",
    "print(j)"
   ]
  },
  {
   "cell_type": "code",
   "execution_count": null,
   "metadata": {},
   "outputs": [],
   "source": []
  }
 ],
 "metadata": {
  "kernelspec": {
   "display_name": "Python 3",
   "language": "python",
   "name": "python3"
  },
  "language_info": {
   "codemirror_mode": {
    "name": "ipython",
    "version": 3
   },
   "file_extension": ".py",
   "mimetype": "text/x-python",
   "name": "python",
   "nbconvert_exporter": "python",
   "pygments_lexer": "ipython3",
   "version": "3.8.5"
  }
 },
 "nbformat": 4,
 "nbformat_minor": 4
}
